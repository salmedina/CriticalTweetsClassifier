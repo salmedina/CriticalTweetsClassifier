{
 "cells": [
  {
   "cell_type": "code",
   "execution_count": 6,
   "metadata": {},
   "outputs": [],
   "source": [
    "import json\n",
    "import os.path as osp\n",
    "import pandas as pd\n",
    "import matplotlib.pyplot as plt\n",
    "import seaborn as sns\n",
    "\n",
    "sns.set_palette('husl')\n"
   ]
  },
  {
   "cell_type": "code",
   "execution_count": 12,
   "metadata": {},
   "outputs": [
    {
     "data": {
      "text/plain": [
       "{'text': 'beloved coaches teacher students among dead in florida school shooting via',\n",
       " 'hashtags': [],\n",
       " 'event': '2018_fl_shooting',\n",
       " 'links': ['https://t.co/nwy9droysh', '@huffpost'],\n",
       " 'label': 'low'}"
      ]
     },
     "execution_count": 12,
     "metadata": {},
     "output_type": "execute_result"
    }
   ],
   "source": [
    "labeled_data_path = '../data/labeled_data.json'\n",
    "unlabeled_data_path = '../data/unlabeled_data.json'\n",
    "labeled_data_json = json.load(open(labeled_data_path, 'r'))\n",
    "unlabeled_data_json = json.load(open(unlabeled_data_path, 'r'))\n",
    "\n",
    "labeled_data_json[list(labeled_data_json.keys())[0]]"
   ]
  },
  {
   "cell_type": "code",
   "execution_count": 54,
   "metadata": {},
   "outputs": [
    {
     "data": {
      "text/html": [
       "<div>\n",
       "<style scoped>\n",
       "    .dataframe tbody tr th:only-of-type {\n",
       "        vertical-align: middle;\n",
       "    }\n",
       "\n",
       "    .dataframe tbody tr th {\n",
       "        vertical-align: top;\n",
       "    }\n",
       "\n",
       "    .dataframe thead th {\n",
       "        text-align: right;\n",
       "    }\n",
       "</style>\n",
       "<table border=\"1\" class=\"dataframe\">\n",
       "  <thead>\n",
       "    <tr style=\"text-align: right;\">\n",
       "      <th></th>\n",
       "      <th>tid</th>\n",
       "      <th>text</th>\n",
       "      <th>hashtags</th>\n",
       "      <th>event</th>\n",
       "      <th>links</th>\n",
       "      <th>label</th>\n",
       "    </tr>\n",
       "  </thead>\n",
       "  <tbody>\n",
       "    <tr>\n",
       "      <td>count</td>\n",
       "      <td>18284</td>\n",
       "      <td>18284</td>\n",
       "      <td>18284</td>\n",
       "      <td>18284</td>\n",
       "      <td>18284</td>\n",
       "      <td>18284</td>\n",
       "    </tr>\n",
       "    <tr>\n",
       "      <td>unique</td>\n",
       "      <td>18284</td>\n",
       "      <td>17154</td>\n",
       "      <td>4157</td>\n",
       "      <td>21</td>\n",
       "      <td>13506</td>\n",
       "      <td>2</td>\n",
       "    </tr>\n",
       "    <tr>\n",
       "      <td>top</td>\n",
       "      <td>541681698358824961</td>\n",
       "      <td>typhoon sweeps across philippines</td>\n",
       "      <td>[]</td>\n",
       "      <td>2015_Nepal_Earthquake_en</td>\n",
       "      <td>[]</td>\n",
       "      <td>low</td>\n",
       "    </tr>\n",
       "    <tr>\n",
       "      <td>freq</td>\n",
       "      <td>1</td>\n",
       "      <td>50</td>\n",
       "      <td>7702</td>\n",
       "      <td>5862</td>\n",
       "      <td>4303</td>\n",
       "      <td>15871</td>\n",
       "    </tr>\n",
       "  </tbody>\n",
       "</table>\n",
       "</div>"
      ],
      "text/plain": [
       "                       tid                               text hashtags  \\\n",
       "count                18284                              18284    18284   \n",
       "unique               18284                              17154     4157   \n",
       "top     541681698358824961  typhoon sweeps across philippines       []   \n",
       "freq                     1                                 50     7702   \n",
       "\n",
       "                           event  links  label  \n",
       "count                      18284  18284  18284  \n",
       "unique                        21  13506      2  \n",
       "top     2015_Nepal_Earthquake_en     []    low  \n",
       "freq                        5862   4303  15871  "
      ]
     },
     "execution_count": 54,
     "metadata": {},
     "output_type": "execute_result"
    }
   ],
   "source": [
    "ldj = labeled_data_json\n",
    "labeled_tweets = pd.DataFrame([(tid, ldj[tid]['text'], ldj[tid]['hashtags'], ldj[tid]['event'], ldj[tid]['links'], ldj[tid]['label']) \n",
    "                for tid in ldj.keys()],\n",
    "                         columns=['tid', 'text', 'hashtags', 'event', 'links', 'label'])\n",
    "labeled_tweets.describe()"
   ]
  },
  {
   "cell_type": "code",
   "execution_count": 37,
   "metadata": {},
   "outputs": [
    {
     "data": {
      "text/plain": [
       "['2012_Guatemala_earthquake',\n",
       " '2012_Costa_Rica_earthquake',\n",
       " '2015_Nepal_Earthquake_en',\n",
       " '2012_Italy_earthquakes',\n",
       " '2014_Chile_Earthquake_en']"
      ]
     },
     "execution_count": 37,
     "metadata": {},
     "output_type": "execute_result"
    }
   ],
   "source": [
    "earthquake_events = [event for event in set(labeled_tweets.event) if 'earthquake' in event.lower()]\n",
    "earthquake_events"
   ]
  },
  {
   "cell_type": "code",
   "execution_count": 38,
   "metadata": {},
   "outputs": [
    {
     "data": {
      "text/plain": [
       "['2013_Colorado_floods',\n",
       " '2013_Queensland_floods',\n",
       " '2013_Manila_floods',\n",
       " '2012_Philipinnes_floods',\n",
       " '2013_Alberta_floods']"
      ]
     },
     "execution_count": 38,
     "metadata": {},
     "output_type": "execute_result"
    }
   ],
   "source": [
    "flood_events = [event for event in set(labeled_tweets.event) if 'flood' in event.lower()]\n",
    "flood_events"
   ]
  },
  {
   "cell_type": "code",
   "execution_count": 49,
   "metadata": {},
   "outputs": [
    {
     "name": "stdout",
     "output_type": "stream",
     "text": [
      "low     15871\n",
      "high     2413\n",
      "Name: label, dtype: int64\n"
     ]
    },
    {
     "data": {
      "image/png": "[encoded data removed]",
      "text/plain": [
       "<Figure size 432x288 with 1 Axes>"
      ]
     },
     "metadata": {
      "needs_background": "light"
     },
     "output_type": "display_data"
    }
   ],
   "source": [
    "labeled_tweets.label.value_counts().plot(kind='bar')\n",
    "print(labeled_tweets.label.value_counts())"
   ]
  },
  {
   "cell_type": "code",
   "execution_count": 51,
   "metadata": {},
   "outputs": [
    {
     "name": "stdout",
     "output_type": "stream",
     "text": [
      "2015_Nepal_Earthquake_en               5862\n",
      "2014_Philippines_Typhoon_Hagupit_en    3941\n",
      "2015_paris_attack                      2061\n",
      "2013_Alberta_floods                     721\n",
      "2013_Queensland_floods                  713\n",
      "2013_Australia_bushfire                 677\n",
      "2013_Typhoon_Yolanda                    564\n",
      "2013_Boston_bombings                    535\n",
      "2018_fl_shooting                        463\n",
      "2012_Philipinnes_floods                 437\n",
      "2013_Manila_floods                      411\n",
      "2014_Chile_Earthquake_en                311\n",
      "2012_Colorado_wildfires                 262\n",
      "2012_Costa_Rica_earthquake              247\n",
      "2012_Typhoon_Pablo                      244\n",
      "2013_Colorado_floods                    234\n",
      "2013_West_Texas_explosion               183\n",
      "2013_LA_airport_shootings               160\n",
      "2012_Guatemala_earthquake               154\n",
      "2012_Italy_earthquakes                  103\n",
      "2013_Lac_Megantic_train_crash             1\n",
      "Name: event, dtype: int64\n"
     ]
    },
    {
     "data": {
      "image/png": "[encoded data removed]",
      "text/plain": [
       "<Figure size 432x288 with 1 Axes>"
      ]
     },
     "metadata": {
      "needs_background": "light"
     },
     "output_type": "display_data"
    }
   ],
   "source": [
    "labeled_tweets.event.value_counts().plot(kind='bar')\n",
    "print(labeled_tweets.event.value_counts())"
   ]
  }
 ],
 "metadata": {
  "kernelspec": {
   "display_name": "Python 3",
   "language": "python",
   "name": "python3"
  },
  "language_info": {
   "codemirror_mode": {
    "name": "ipython",
    "version": 3
   },
   "file_extension": ".py",
   "mimetype": "text/x-python",
   "name": "python",
   "nbconvert_exporter": "python",
   "pygments_lexer": "ipython3",
   "version": "3.7.4"
  }
 },
 "nbformat": 4,
 "nbformat_minor": 2
}
