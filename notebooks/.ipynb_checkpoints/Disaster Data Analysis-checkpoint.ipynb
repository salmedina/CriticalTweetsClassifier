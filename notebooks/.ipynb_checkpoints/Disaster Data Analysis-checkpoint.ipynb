{
 "cells": [
  {
   "cell_type": "code",
   "execution_count": 204,
   "metadata": {},
   "outputs": [],
   "source": [
    "import json\n",
    "import os.path as osp\n",
    "import pandas as pd\n",
    "import matplotlib.pyplot as plt\n",
    "import seaborn as sns\n",
    "\n",
    "sns.set_palette('Set2')"
   ]
  },
  {
   "cell_type": "markdown",
   "metadata": {},
   "source": [
    "### Load the data"
   ]
  },
  {
   "cell_type": "code",
   "execution_count": 108,
   "metadata": {},
   "outputs": [],
   "source": [
    "labeled_data_path = '../data/labeled_data.json'\n",
    "unlabeled_data_path = '../data/unlabeled_data.json'\n",
    "grouped_labeled_data_path = '../data/grouped_labeled_data.json'"
   ]
  },
  {
   "cell_type": "code",
   "execution_count": 113,
   "metadata": {},
   "outputs": [
    {
     "data": {
      "text/plain": [
       "{'text': 'beloved coaches teacher students among dead in florida school shooting via',\n",
       " 'hashtags': [],\n",
       " 'event': '2018_fl_shooting',\n",
       " 'links': ['https://t.co/nwy9droysh', '@huffpost'],\n",
       " 'label': 'low'}"
      ]
     },
     "execution_count": 113,
     "metadata": {},
     "output_type": "execute_result"
    }
   ],
   "source": [
    "labeled_data_json = json.load(open(labeled_data_path, 'r'))\n",
    "unlabeled_data_json = json.load(open(unlabeled_data_path, 'r'))\n",
    "\n",
    "labeled_data_json[list(labeled_data_json.keys())[0]]"
   ]
  },
  {
   "cell_type": "code",
   "execution_count": 201,
   "metadata": {},
   "outputs": [
    {
     "data": {
      "text/plain": [
       "{'text': 'rtd news at epicenter of nepal tragedy local church mission offers help',\n",
       " 'hashtags': ['rva'],\n",
       " 'event': '2015_Nepal_Earthquake_en',\n",
       " 'links': ['http://t.co/djnsfxg4n1', 'http://t.co/fwovqy04n1'],\n",
       " 'label': 'high'}"
      ]
     },
     "execution_count": 201,
     "metadata": {},
     "output_type": "execute_result"
    }
   ],
   "source": [
    "labeled_data_json[list(labeled_data_json.keys())[-4]]"
   ]
  },
  {
   "cell_type": "markdown",
   "metadata": {},
   "source": [
    "### Import it to Pandas"
   ]
  },
  {
   "cell_type": "code",
   "execution_count": 5,
   "metadata": {},
   "outputs": [
    {
     "data": {
      "text/html": [
       "<div>\n",
       "<style scoped>\n",
       "    .dataframe tbody tr th:only-of-type {\n",
       "        vertical-align: middle;\n",
       "    }\n",
       "\n",
       "    .dataframe tbody tr th {\n",
       "        vertical-align: top;\n",
       "    }\n",
       "\n",
       "    .dataframe thead th {\n",
       "        text-align: right;\n",
       "    }\n",
       "</style>\n",
       "<table border=\"1\" class=\"dataframe\">\n",
       "  <thead>\n",
       "    <tr style=\"text-align: right;\">\n",
       "      <th></th>\n",
       "      <th>tid</th>\n",
       "      <th>text</th>\n",
       "      <th>hashtags</th>\n",
       "      <th>event</th>\n",
       "      <th>links</th>\n",
       "      <th>label</th>\n",
       "    </tr>\n",
       "  </thead>\n",
       "  <tbody>\n",
       "    <tr>\n",
       "      <td>count</td>\n",
       "      <td>18283</td>\n",
       "      <td>18283</td>\n",
       "      <td>18283</td>\n",
       "      <td>18283</td>\n",
       "      <td>18283</td>\n",
       "      <td>18283</td>\n",
       "    </tr>\n",
       "    <tr>\n",
       "      <td>unique</td>\n",
       "      <td>18283</td>\n",
       "      <td>17153</td>\n",
       "      <td>4157</td>\n",
       "      <td>20</td>\n",
       "      <td>13506</td>\n",
       "      <td>2</td>\n",
       "    </tr>\n",
       "    <tr>\n",
       "      <td>top</td>\n",
       "      <td>400230633701924864</td>\n",
       "      <td>typhoon sweeps across philippines</td>\n",
       "      <td>[]</td>\n",
       "      <td>2015_Nepal_Earthquake_en</td>\n",
       "      <td>[]</td>\n",
       "      <td>low</td>\n",
       "    </tr>\n",
       "    <tr>\n",
       "      <td>freq</td>\n",
       "      <td>1</td>\n",
       "      <td>50</td>\n",
       "      <td>7701</td>\n",
       "      <td>5862</td>\n",
       "      <td>4302</td>\n",
       "      <td>15870</td>\n",
       "    </tr>\n",
       "  </tbody>\n",
       "</table>\n",
       "</div>"
      ],
      "text/plain": [
       "                       tid                               text hashtags  \\\n",
       "count                18283                              18283    18283   \n",
       "unique               18283                              17153     4157   \n",
       "top     400230633701924864  typhoon sweeps across philippines       []   \n",
       "freq                     1                                 50     7701   \n",
       "\n",
       "                           event  links  label  \n",
       "count                      18283  18283  18283  \n",
       "unique                        20  13506      2  \n",
       "top     2015_Nepal_Earthquake_en     []    low  \n",
       "freq                        5862   4302  15870  "
      ]
     },
     "execution_count": 5,
     "metadata": {},
     "output_type": "execute_result"
    }
   ],
   "source": [
    "ldj = labeled_data_json\n",
    "labeled_tweets = pd.DataFrame([(tid, ldj[tid]['text'], ldj[tid]['hashtags'], ldj[tid]['event'], ldj[tid]['links'], ldj[tid]['label']) \n",
    "                for tid in ldj.keys()],\n",
    "                         columns=['tid', 'text', 'hashtags', 'event', 'links', 'label'])\n",
    "labeled_tweets.describe()"
   ]
  },
  {
   "cell_type": "markdown",
   "metadata": {},
   "source": [
    "Here we show the distribution of the criticallity of the events and the events themselves."
   ]
  },
  {
   "cell_type": "code",
   "execution_count": 177,
   "metadata": {},
   "outputs": [
    {
     "name": "stdout",
     "output_type": "stream",
     "text": [
      "low     15870\n",
      "high     2413\n",
      "Name: label, dtype: int64\n"
     ]
    },
    {
     "data": {
      "image/png": "[encoded data removed]",
      "text/plain": [
       "<Figure size 432x288 with 1 Axes>"
      ]
     },
     "metadata": {
      "needs_background": "light"
     },
     "output_type": "display_data"
    }
   ],
   "source": [
    "labeled_tweets.label.value_counts().plot(kind='bar')\n",
    "print(labeled_tweets.label.value_counts())"
   ]
  },
  {
   "cell_type": "code",
   "execution_count": 228,
   "metadata": {},
   "outputs": [
    {
     "name": "stderr",
     "output_type": "stream",
     "text": [
      "/home/zal/anaconda3/envs/crittweets/lib/python3.7/site-packages/ipykernel_launcher.py:5: FutureWarning: 'from_array' is deprecated and will be removed in a future version. Please use the pd.Series(..) constructor instead.\n",
      "  \"\"\"\n"
     ]
    },
    {
     "data": {
      "image/png": "[encoded data removed]",
      "text/plain": [
       "<Figure size 432x288 with 1 Axes>"
      ]
     },
     "metadata": {
      "needs_background": "light"
     },
     "output_type": "display_data"
    }
   ],
   "source": [
    "colors = sns.color_palette()\n",
    "original_count = [12978, 2836, 2334, 135]\n",
    "original_labels = ['low', 'medium', 'high', 'critical']\n",
    "\n",
    "original_series = pd.Series.from_array(original_count)\n",
    "\n",
    "plt.figure()\n",
    "plt.rcParams.update({'font.size':18})\n",
    "ax = original_series.plot(kind='bar', color=['#66b3ff', '#99ff99', '#f0d16e',  '#ff6666'])\n",
    "\n",
    "ax.spines['right'].set_visible(False)\n",
    "ax.spines['top'].set_visible(False)\n",
    "ax.spines['left'].set_visible(False)\n",
    "ax.get_yaxis().set_visible(False)\n",
    "ax.set_xticklabels(original_count, rotation=0)\n",
    "\n",
    "rects = ax.patches\n",
    "\n",
    "# Make some labels.\n",
    "for rect, label in zip(rects, original_labels):\n",
    "    height = rect.get_height()\n",
    "    ax.text(rect.get_x() + rect.get_width() / 2, height + 5, label,\n",
    "            ha='center', va='bottom')\n",
    "plt.savefig('../images/original_labels_barplot.pdf')"
   ]
  },
  {
   "cell_type": "code",
   "execution_count": 230,
   "metadata": {},
   "outputs": [
    {
     "name": "stderr",
     "output_type": "stream",
     "text": [
      "/home/zal/anaconda3/envs/crittweets/lib/python3.7/site-packages/ipykernel_launcher.py:5: FutureWarning: 'from_array' is deprecated and will be removed in a future version. Please use the pd.Series(..) constructor instead.\n",
      "  \"\"\"\n"
     ]
    },
    {
     "data": {
      "image/png": "[encoded data removed]",
      "text/plain": [
       "<Figure size 432x288 with 1 Axes>"
      ]
     },
     "metadata": {
      "needs_background": "light"
     },
     "output_type": "display_data"
    }
   ],
   "source": [
    "colors = sns.color_palette()\n",
    "new_count = [15870, 2413]\n",
    "new_labels = ['non-critical', 'critical']\n",
    "\n",
    "new_series = pd.Series.from_array(new_count)\n",
    "\n",
    "plt.figure()\n",
    "ax = new_series.plot(kind='bar', color=['#66b3ff', '#ff6666'])\n",
    "\n",
    "ax.set_ylabel('Frequency')\n",
    "ax.spines['right'].set_visible(False)\n",
    "ax.spines['top'].set_visible(False)\n",
    "ax.spines['left'].set_visible(False)\n",
    "ax.get_yaxis().set_visible(False)\n",
    "ax.set_xticklabels(new_count, rotation=0)\n",
    "\n",
    "rects = ax.patches\n",
    "\n",
    "# Make some labels.\n",
    "for rect, label in zip(rects, new_labels):\n",
    "    height = rect.get_height()\n",
    "    ax.text(rect.get_x() + rect.get_width() / 2, height + 5, label,\n",
    "            ha='center', va='bottom')\n",
    "plt.savefig('../images/new_labels_barplot.pdf')"
   ]
  },
  {
   "cell_type": "code",
   "execution_count": 7,
   "metadata": {},
   "outputs": [
    {
     "name": "stdout",
     "output_type": "stream",
     "text": [
      "2015_Nepal_Earthquake_en               5862\n",
      "2014_Philippines_Typhoon_Hagupit_en    3941\n",
      "2015_paris_attack                      2061\n",
      "2013_Alberta_floods                     721\n",
      "2013_Queensland_floods                  713\n",
      "2013_Australia_bushfire                 677\n",
      "2013_Typhoon_Yolanda                    564\n",
      "2013_Boston_bombings                    535\n",
      "2018_fl_shooting                        463\n",
      "2012_Philipinnes_floods                 437\n",
      "2013_Manila_floods                      411\n",
      "2014_Chile_Earthquake_en                311\n",
      "2012_Colorado_wildfires                 262\n",
      "2012_Costa_Rica_earthquake              247\n",
      "2012_Typhoon_Pablo                      244\n",
      "2013_Colorado_floods                    234\n",
      "2013_West_Texas_explosion               183\n",
      "2013_LA_airport_shootings               160\n",
      "2012_Guatemala_earthquake               154\n",
      "2012_Italy_earthquakes                  103\n",
      "Name: event, dtype: int64\n"
     ]
    },
    {
     "data": {
      "image/png": "[encoded data removed]",
      "text/plain": [
       "<Figure size 432x288 with 1 Axes>"
      ]
     },
     "metadata": {
      "needs_background": "light"
     },
     "output_type": "display_data"
    }
   ],
   "source": [
    "labeled_tweets.event.value_counts().plot(kind='bar')\n",
    "print(labeled_tweets.event.value_counts())"
   ]
  },
  {
   "cell_type": "markdown",
   "metadata": {},
   "source": [
    "### Group the events by type of event\n",
    "Since the type of events is highly skewed toward three events, we will group them according to the type of natural disaster or attack if a human is involved in the origin of the event. The major groups will be as follows:\n",
    "1. earthquake\n",
    "1. flood\n",
    "1. fire\n",
    "1. attack"
   ]
  },
  {
   "cell_type": "code",
   "execution_count": 11,
   "metadata": {},
   "outputs": [
    {
     "data": {
      "text/plain": [
       "['2012_Costa_Rica_earthquake',\n",
       " '2012_Guatemala_earthquake',\n",
       " '2012_Italy_earthquakes',\n",
       " '2014_Chile_Earthquake_en',\n",
       " '2015_Nepal_Earthquake_en']"
      ]
     },
     "execution_count": 11,
     "metadata": {},
     "output_type": "execute_result"
    }
   ],
   "source": [
    "earthquake_events = sorted([event for event in set(labeled_tweets.event) if 'earthquake' in event.lower()])\n",
    "earthquake_events"
   ]
  },
  {
   "cell_type": "code",
   "execution_count": 131,
   "metadata": {},
   "outputs": [
    {
     "data": {
      "text/plain": [
       "['2012_Philipinnes_floods',\n",
       " '2013_Alberta_floods',\n",
       " '2013_Colorado_floods',\n",
       " '2013_Manila_floods',\n",
       " '2013_Queensland_floods']"
      ]
     },
     "execution_count": 131,
     "metadata": {},
     "output_type": "execute_result"
    }
   ],
   "source": [
    "flood_events = sorted([event for event in set(labeled_tweets.event) if 'flood' in event.lower()])\n",
    "flood_events"
   ]
  },
  {
   "cell_type": "code",
   "execution_count": 132,
   "metadata": {},
   "outputs": [
    {
     "data": {
      "text/plain": [
       "['2012_Typhoon_Pablo',\n",
       " '2013_Typhoon_Yolanda',\n",
       " '2014_Philippines_Typhoon_Hagupit_en']"
      ]
     },
     "execution_count": 132,
     "metadata": {},
     "output_type": "execute_result"
    }
   ],
   "source": [
    "typhoon_events = sorted([event for event in set(labeled_tweets.event) if 'typhoon' in event.lower()])\n",
    "typhoon_events"
   ]
  },
  {
   "cell_type": "code",
   "execution_count": 133,
   "metadata": {},
   "outputs": [
    {
     "data": {
      "text/plain": [
       "['2012_Colorado_wildfires', '2013_Australia_bushfire']"
      ]
     },
     "execution_count": 133,
     "metadata": {},
     "output_type": "execute_result"
    }
   ],
   "source": [
    "fire_events = sorted([event for event in set(labeled_tweets.event) if 'fire' in event.lower()])\n",
    "fire_events"
   ]
  },
  {
   "cell_type": "code",
   "execution_count": 135,
   "metadata": {},
   "outputs": [
    {
     "data": {
      "text/plain": [
       "['2013_Boston_bombings',\n",
       " '2013_LA_airport_shootings',\n",
       " '2013_West_Texas_explosion',\n",
       " '2015_paris_attack',\n",
       " '2018_fl_shooting']"
      ]
     },
     "execution_count": 135,
     "metadata": {},
     "output_type": "execute_result"
    }
   ],
   "source": [
    "natural_disaster_events = earthquake_events + flood_events + typhoon_events + fire_events\n",
    "attack_events = sorted([event for event in set(labeled_tweets.event) if event not in natural_disaster_events])\n",
    "attack_events"
   ]
  },
  {
   "cell_type": "code",
   "execution_count": 136,
   "metadata": {},
   "outputs": [
    {
     "data": {
      "text/html": [
       "<div>\n",
       "<style scoped>\n",
       "    .dataframe tbody tr th:only-of-type {\n",
       "        vertical-align: middle;\n",
       "    }\n",
       "\n",
       "    .dataframe tbody tr th {\n",
       "        vertical-align: top;\n",
       "    }\n",
       "\n",
       "    .dataframe thead th {\n",
       "        text-align: right;\n",
       "    }\n",
       "</style>\n",
       "<table border=\"1\" class=\"dataframe\">\n",
       "  <thead>\n",
       "    <tr style=\"text-align: right;\">\n",
       "      <th></th>\n",
       "      <th>tid</th>\n",
       "      <th>text</th>\n",
       "      <th>hashtags</th>\n",
       "      <th>event</th>\n",
       "      <th>links</th>\n",
       "      <th>label</th>\n",
       "      <th>event_type</th>\n",
       "    </tr>\n",
       "  </thead>\n",
       "  <tbody>\n",
       "    <tr>\n",
       "      <td>0</td>\n",
       "      <td>964501154347483136</td>\n",
       "      <td>beloved coaches teacher students among dead in...</td>\n",
       "      <td>[]</td>\n",
       "      <td>2018_fl_shooting</td>\n",
       "      <td>[https://t.co/nwy9droysh, @huffpost]</td>\n",
       "      <td>low</td>\n",
       "      <td>attack</td>\n",
       "    </tr>\n",
       "    <tr>\n",
       "      <td>1</td>\n",
       "      <td>451609342639603712</td>\n",
       "      <td>8.2 earthquake hits chile 6 dead 300 prisoners...</td>\n",
       "      <td>[us politics]</td>\n",
       "      <td>2014_Chile_Earthquake_en</td>\n",
       "      <td>[http://t.co/170sujr7wi, http://t.co/hdzi6vorwh]</td>\n",
       "      <td>low</td>\n",
       "      <td>earthquake</td>\n",
       "    </tr>\n",
       "    <tr>\n",
       "      <td>2</td>\n",
       "      <td>541734809903824898</td>\n",
       "      <td>goodmorning keep safe everyone</td>\n",
       "      <td>[thy poon ruby, pray forthe philippines l t3]</td>\n",
       "      <td>2014_Philippines_Typhoon_Hagupit_en</td>\n",
       "      <td>[]</td>\n",
       "      <td>low</td>\n",
       "      <td>typhoon</td>\n",
       "    </tr>\n",
       "    <tr>\n",
       "      <td>3</td>\n",
       "      <td>452272803773808643</td>\n",
       "      <td>mb 4.3 off coast of tarapaca chile magnitude m...</td>\n",
       "      <td>[]</td>\n",
       "      <td>2014_Chile_Earthquake_en</td>\n",
       "      <td>[http://t.co/mkziqs2xuj]</td>\n",
       "      <td>low</td>\n",
       "      <td>earthquake</td>\n",
       "    </tr>\n",
       "    <tr>\n",
       "      <td>4</td>\n",
       "      <td>541772956083716100</td>\n",
       "      <td>ancop usa appeal for victims of super typhoon ...</td>\n",
       "      <td>[]</td>\n",
       "      <td>2014_Philippines_Typhoon_Hagupit_en</td>\n",
       "      <td>[http://t.co/g9kkapf3jo]</td>\n",
       "      <td>low</td>\n",
       "      <td>typhoon</td>\n",
       "    </tr>\n",
       "    <tr>\n",
       "      <td>...</td>\n",
       "      <td>...</td>\n",
       "      <td>...</td>\n",
       "      <td>...</td>\n",
       "      <td>...</td>\n",
       "      <td>...</td>\n",
       "      <td>...</td>\n",
       "      <td>...</td>\n",
       "    </tr>\n",
       "    <tr>\n",
       "      <td>18278</td>\n",
       "      <td>350105576149237760</td>\n",
       "      <td>rt the calgary drop-in centre re-opened &amp;amp; ...</td>\n",
       "      <td>[yy c flood]</td>\n",
       "      <td>2013_Alberta_floods</td>\n",
       "      <td>[@cityofcalgary:, .@nenshi]</td>\n",
       "      <td>low</td>\n",
       "      <td>flood</td>\n",
       "    </tr>\n",
       "    <tr>\n",
       "      <td>18279</td>\n",
       "      <td>592652777366630400</td>\n",
       "      <td>rtd news at epicenter of nepal tragedy local c...</td>\n",
       "      <td>[rva]</td>\n",
       "      <td>2015_Nepal_Earthquake_en</td>\n",
       "      <td>[http://t.co/djnsfxg4n1, http://t.co/fwovqy04n1]</td>\n",
       "      <td>high</td>\n",
       "      <td>earthquake</td>\n",
       "    </tr>\n",
       "    <tr>\n",
       "      <td>18280</td>\n",
       "      <td>665517421738889216</td>\n",
       "      <td>france vows to punish is for paris attacks tha...</td>\n",
       "      <td>[]</td>\n",
       "      <td>2015_paris_attack</td>\n",
       "      <td>[https://t.co/pqn4e5ydra]</td>\n",
       "      <td>low</td>\n",
       "      <td>attack</td>\n",
       "    </tr>\n",
       "    <tr>\n",
       "      <td>18281</td>\n",
       "      <td>324003025674960898</td>\n",
       "      <td>i am honestly sick who could be so disgusting ...</td>\n",
       "      <td>[pray for boston]</td>\n",
       "      <td>2013_Boston_bombings</td>\n",
       "      <td>[]</td>\n",
       "      <td>low</td>\n",
       "      <td>attack</td>\n",
       "    </tr>\n",
       "    <tr>\n",
       "      <td>18282</td>\n",
       "      <td>378213599551832065</td>\n",
       "      <td>rt seek higher ground immediately wall of wate...</td>\n",
       "      <td>[boulder flood]</td>\n",
       "      <td>2013_Colorado_floods</td>\n",
       "      <td>[@cuboulder:]</td>\n",
       "      <td>high</td>\n",
       "      <td>flood</td>\n",
       "    </tr>\n",
       "  </tbody>\n",
       "</table>\n",
       "<p>18283 rows × 7 columns</p>\n",
       "</div>"
      ],
      "text/plain": [
       "                      tid                                               text  \\\n",
       "0      964501154347483136  beloved coaches teacher students among dead in...   \n",
       "1      451609342639603712  8.2 earthquake hits chile 6 dead 300 prisoners...   \n",
       "2      541734809903824898                     goodmorning keep safe everyone   \n",
       "3      452272803773808643  mb 4.3 off coast of tarapaca chile magnitude m...   \n",
       "4      541772956083716100  ancop usa appeal for victims of super typhoon ...   \n",
       "...                   ...                                                ...   \n",
       "18278  350105576149237760  rt the calgary drop-in centre re-opened &amp; ...   \n",
       "18279  592652777366630400  rtd news at epicenter of nepal tragedy local c...   \n",
       "18280  665517421738889216  france vows to punish is for paris attacks tha...   \n",
       "18281  324003025674960898  i am honestly sick who could be so disgusting ...   \n",
       "18282  378213599551832065  rt seek higher ground immediately wall of wate...   \n",
       "\n",
       "                                            hashtags  \\\n",
       "0                                                 []   \n",
       "1                                      [us politics]   \n",
       "2      [thy poon ruby, pray forthe philippines l t3]   \n",
       "3                                                 []   \n",
       "4                                                 []   \n",
       "...                                              ...   \n",
       "18278                                   [yy c flood]   \n",
       "18279                                          [rva]   \n",
       "18280                                             []   \n",
       "18281                              [pray for boston]   \n",
       "18282                                [boulder flood]   \n",
       "\n",
       "                                     event  \\\n",
       "0                         2018_fl_shooting   \n",
       "1                 2014_Chile_Earthquake_en   \n",
       "2      2014_Philippines_Typhoon_Hagupit_en   \n",
       "3                 2014_Chile_Earthquake_en   \n",
       "4      2014_Philippines_Typhoon_Hagupit_en   \n",
       "...                                    ...   \n",
       "18278                  2013_Alberta_floods   \n",
       "18279             2015_Nepal_Earthquake_en   \n",
       "18280                    2015_paris_attack   \n",
       "18281                 2013_Boston_bombings   \n",
       "18282                 2013_Colorado_floods   \n",
       "\n",
       "                                                  links label  event_type  \n",
       "0                  [https://t.co/nwy9droysh, @huffpost]   low      attack  \n",
       "1      [http://t.co/170sujr7wi, http://t.co/hdzi6vorwh]   low  earthquake  \n",
       "2                                                    []   low     typhoon  \n",
       "3                              [http://t.co/mkziqs2xuj]   low  earthquake  \n",
       "4                              [http://t.co/g9kkapf3jo]   low     typhoon  \n",
       "...                                                 ...   ...         ...  \n",
       "18278                       [@cityofcalgary:, .@nenshi]   low       flood  \n",
       "18279  [http://t.co/djnsfxg4n1, http://t.co/fwovqy04n1]  high  earthquake  \n",
       "18280                         [https://t.co/pqn4e5ydra]   low      attack  \n",
       "18281                                                []   low      attack  \n",
       "18282                                     [@cuboulder:]  high       flood  \n",
       "\n",
       "[18283 rows x 7 columns]"
      ]
     },
     "execution_count": 136,
     "metadata": {},
     "output_type": "execute_result"
    }
   ],
   "source": [
    "label_grouping_map = dict()\n",
    "grouped_label_tuples = [(earthquake_events, 'earthquake'), \n",
    "                        (flood_events, 'flood'), \n",
    "                        (typhoon_events, 'typhoon'), \n",
    "                        (fire_events, 'fire'), \n",
    "                        (attack_events, 'attack')]\n",
    "for event_label_list, new_label in grouped_label_tuples:\n",
    "    for event_label in event_label_list:\n",
    "        label_grouping_map[event_label] = new_label\n",
    "\n",
    "labeled_tweets['event_type'] = labeled_tweets.event.replace(to_replace=label_grouping_map)\n",
    "labeled_tweets.to_json(grouped_labeled_data_path, orient='index')\n",
    "labeled_tweets"
   ]
  },
  {
   "cell_type": "code",
   "execution_count": 139,
   "metadata": {},
   "outputs": [
    {
     "data": {
      "text/plain": [
       "18283"
      ]
     },
     "execution_count": 139,
     "metadata": {},
     "output_type": "execute_result"
    }
   ],
   "source": [
    "len(labeled_tweets)"
   ]
  },
  {
   "cell_type": "markdown",
   "metadata": {},
   "source": [
    "Finally we can see that we have a more balanced dataset according to the type of event"
   ]
  },
  {
   "cell_type": "code",
   "execution_count": 140,
   "metadata": {},
   "outputs": [
    {
     "name": "stdout",
     "output_type": "stream",
     "text": [
      "earthquake    6677\n",
      "typhoon       4749\n",
      "attack        3402\n",
      "flood         2516\n",
      "fire           939\n",
      "Name: event_type, dtype: int64\n"
     ]
    },
    {
     "data": {
      "image/png": "[encoded data removed]",
      "text/plain": [
       "<Figure size 432x288 with 1 Axes>"
      ]
     },
     "metadata": {
      "needs_background": "light"
     },
     "output_type": "display_data"
    }
   ],
   "source": [
    "labeled_tweets.event_type.value_counts().plot(kind='bar')\n",
    "print(labeled_tweets.event_type.value_counts())"
   ]
  },
  {
   "cell_type": "code",
   "execution_count": 141,
   "metadata": {},
   "outputs": [
    {
     "name": "stdout",
     "output_type": "stream",
     "text": [
      "1. earthquake: 6677\n",
      "2015_Nepal_Earthquake_en      5862\n",
      "2014_Chile_Earthquake_en       311\n",
      "2012_Costa_Rica_earthquake     247\n",
      "2012_Guatemala_earthquake      154\n",
      "2012_Italy_earthquakes         103\n",
      "Name: event, dtype: int64\n",
      "2. flood: 2516\n",
      "2013_Alberta_floods        721\n",
      "2013_Queensland_floods     713\n",
      "2012_Philipinnes_floods    437\n",
      "2013_Manila_floods         411\n",
      "2013_Colorado_floods       234\n",
      "Name: event, dtype: int64\n",
      "3. attack: 3402\n",
      "2015_paris_attack            2061\n",
      "2013_Boston_bombings          535\n",
      "2018_fl_shooting              463\n",
      "2013_West_Texas_explosion     183\n",
      "2013_LA_airport_shootings     160\n",
      "Name: event, dtype: int64\n",
      "4. typhoon: 4749\n",
      "2014_Philippines_Typhoon_Hagupit_en    3941\n",
      "2013_Typhoon_Yolanda                    564\n",
      "2012_Typhoon_Pablo                      244\n",
      "Name: event, dtype: int64\n",
      "5. fire: 939\n",
      "2013_Australia_bushfire    677\n",
      "2012_Colorado_wildfires    262\n",
      "Name: event, dtype: int64\n"
     ]
    }
   ],
   "source": [
    "for i, event_type in enumerate(set(labeled_tweets.event_type), start=1):\n",
    "    print(f'{i}. {event_type}: {len(labeled_tweets[labeled_tweets.event_type==event_type])}')\n",
    "    print(labeled_tweets[labeled_tweets.event_type==event_type].event.value_counts())"
   ]
  },
  {
   "cell_type": "code",
   "execution_count": 221,
   "metadata": {},
   "outputs": [
    {
     "data": {
      "image/png": "[encoded data removed]",
      "text/plain": [
       "<Figure size 432x288 with 1 Axes>"
      ]
     },
     "metadata": {},
     "output_type": "display_data"
    }
   ],
   "source": [
    "import matplotlib.pyplot as plt\n",
    "from matplotlib.patches import Patch\n",
    "\n",
    "from matplotlib.lines import Line2D\n",
    " \n",
    "# Data to plot\n",
    "labels = ['Earthquakes', 'Floods', 'Typhoons', 'Attacks', 'Wildfires']\n",
    "sizes = [6677, 2516, 4749, 3402, 939]\n",
    "sizes_gender = [5862, 311, 247, 154, 103, \n",
    "                721, 713, 437, 411, 234, \n",
    "                3941, 564, 244,\n",
    "                2061, 535, 463, 183, 160,\n",
    "                677, 262 ]\n",
    "colors = ['#ffcc99', '#66b3ff', '#99ff99', '#f0d16e',  '#ff6666']\n",
    "colors_earthquake = ['#dbaf84','#bd966f', '#a68462','#8a6d51', '#69523d']\n",
    "colors_flood = ['#5696d6','#4981b8','#3e6e9e','#325b85','#2b4d70']\n",
    "colors_typhoon = ['#84db84', '#71bd71', '#60a160']\n",
    "colors_attack = ['#e0c367', '#d1b65e', '#bfa758', '#a6914b', '#8a783e']\n",
    "colors_fire = ['#d15454','#a64141']\n",
    "colors_gender = colors_earthquake + colors_flood + colors_typhoon + colors_attack + colors_fire\n",
    "\n",
    "# Legend\n",
    "legend_elements = [Patch(color='#dbaf84', label='2015 Nepal Earthquake'),\n",
    "                   Patch(color='#bd966f', label='2014 Chile Earthquake'),\n",
    "                   Patch(color='#a68462', label='2012 Costa Rica earthquake'),\n",
    "                   Patch(color='#8a6d51', label='2012 Guatemala earthquake'),\n",
    "                   Patch(color='#69523d', label='2012 Italy earthquake '),\n",
    "                   Patch(color='#5696d6', label='2013 Alberta floods'),\n",
    "                   Patch(color='#3e6e9e', label='2013 Queensland floods'),\n",
    "                   Patch(color='#325b85', label='2012 Philipinnes floods'),\n",
    "                   Patch(color='#2b4d70', label='2013 Manila floods'),\n",
    "                   Patch(color='#111e2b', label='2013 Colorado floods'),\n",
    "                   Patch(color='#84db84', label='2014 Philippines Typhoon Hagupit'),\n",
    "                   Patch(color='#71bd71', label='2013 Typhoon Yolanda'),\n",
    "                   Patch(color='#60a160', label='2012 Typhoon Pablo'),\n",
    "                   Patch(color='#e0c367', label='2015 Paris attack'),\n",
    "                  Patch(color='#d1b65e', label='2013 Boston_bombings'),\n",
    "                  Patch(color='#bfa758', label='2018 Florida shooting'),\n",
    "                  Patch(color='#a6914b', label='2013 West Texas explosion'),\n",
    "                  Patch(color='#8a783e', label='2013 LA airport shootings'),\n",
    "                  Patch(color='#d15454', label='2013 Australia bushfire'),\n",
    "                  Patch(color='#a64141', label='2012 Colorado wildfires'),\n",
    "                  ]\n",
    "\n",
    "# Plot\n",
    "plt.rcParams.update({'font.size':11})\n",
    "plt.pie(sizes, labels=labels, colors=colors, startangle=90,frame=True)\n",
    "plt.pie(sizes_gender, colors=colors_gender, radius=0.75, startangle=90)\n",
    "centre_circle = plt.Circle((0,0),0.5, color='black', fc='white', linewidth=0)\n",
    "fig = plt.gcf()\n",
    "fig.gca().add_artist(centre_circle)\n",
    " \n",
    "plt.axis('equal')\n",
    "# plt.tight_layout()\n",
    "plt.legend(handles=legend_elements, bbox_to_anchor=(1., 1.15))\n",
    "plt.savefig('../images/dataset_piechart.pdf', bbox_inches = \"tight\")\n",
    "plt.show()"
   ]
  }
 ],
 "metadata": {
  "kernelspec": {
   "display_name": "Python 3",
   "language": "python",
   "name": "python3"
  },
  "language_info": {
   "codemirror_mode": {
    "name": "ipython",
    "version": 3
   },
   "file_extension": ".py",
   "mimetype": "text/x-python",
   "name": "python",
   "nbconvert_exporter": "python",
   "pygments_lexer": "ipython3",
   "version": "3.7.4"
  }
 },
 "nbformat": 4,
 "nbformat_minor": 2
}
