{
 "cells": [
  {
   "cell_type": "code",
   "execution_count": 1,
   "metadata": {},
   "outputs": [],
   "source": [
    "import numpy as np\n",
    "import json"
   ]
  },
  {
   "cell_type": "markdown",
   "metadata": {},
   "source": [
    "Load the dataset in its original format."
   ]
  },
  {
   "cell_type": "code",
   "execution_count": 2,
   "metadata": {},
   "outputs": [],
   "source": [
    "data = json.load(open('../data/labeled_data.json'))\n",
    "data_ids = []\n",
    "with open('../src/adv_flood_3_val_idx.lst') as idx_file:\n",
    "    data_ids = idx_file.readlines()\n",
    "data_ids = [sample.strip() for sample in data_ids]"
   ]
  },
  {
   "cell_type": "markdown",
   "metadata": {},
   "source": [
    "# Analysis of Critical Tweets on Flood Split 3"
   ]
  },
  {
   "cell_type": "markdown",
   "metadata": {},
   "source": [
    "These IDs were obatined by hacking the code, need to fix that :P"
   ]
  },
  {
   "cell_type": "code",
   "execution_count": 3,
   "metadata": {},
   "outputs": [],
   "source": [
    "base_tp = [22,38,39,48,51,56,87,92,97,98,149,165,177,200,201,210,214,228,243,269,281,288,341,356,393,411,441]\n",
    "adv_tp = [22,33,38,39,48,50,51,56,65,87,98,149,164,165,167,177,200,214,228,231,239,243,249,260,323,341,346,354,384,411,441]"
   ]
  },
  {
   "cell_type": "markdown",
   "metadata": {},
   "source": [
    "Here we calculate the TP that each model captured while the other didn't (FN of the other model)"
   ]
  },
  {
   "cell_type": "code",
   "execution_count": 4,
   "metadata": {},
   "outputs": [
    {
     "name": "stdout",
     "output_type": "stream",
     "text": [
      "9\n",
      "13\n"
     ]
    }
   ],
   "source": [
    "base_ex = set(base_tp) - set(adv_tp)\n",
    "print(len(base_ex))\n",
    "adversarial_ex = set(adv_tp) - set(base_tp)\n",
    "print(len(adversarial_ex))"
   ]
  },
  {
   "cell_type": "markdown",
   "metadata": {},
   "source": [
    "Data sample to visualize keys and values"
   ]
  },
  {
   "cell_type": "code",
   "execution_count": 5,
   "metadata": {},
   "outputs": [
    {
     "data": {
      "text/plain": [
       "{'text': 'are there any organizations in that can use volunteers right now for people show up and wed love to refer them to you',\n",
       " 'hashtags': ['y yc', 'yy c flood'],\n",
       " 'event': '2013_Alberta_floods',\n",
       " 'links': [],\n",
       " 'label': 'low'}"
      ]
     },
     "execution_count": 5,
     "metadata": {},
     "output_type": "execute_result"
    }
   ],
   "source": [
    "data['348501951157243904']"
   ]
  },
  {
   "cell_type": "markdown",
   "metadata": {},
   "source": [
    "TP captured by the baseline and not the adversarial model."
   ]
  },
  {
   "cell_type": "code",
   "execution_count": 6,
   "metadata": {},
   "outputs": [
    {
     "name": "stdout",
     "output_type": "stream",
     "text": [
      "233155919373033473: if a lot of us donate even a little kaya yan\n",
      "232831619977854979: delos santos hospitals generator may die in any moment need help rt pls\n",
      "233150907179757568: rt australian tourists swim with kids in flooded lagu sni lad\n",
      "232502601978101760: rt pagasa 1130 pm advisory red warning for metro manila heavy intense rains in next 3 hrs. floods ...\n",
      "233108775370899456: gonna sort out stuff to donate\n",
      "232782278189793280: rt photo by carlo ga buco photo marikina river taken roughly at 54 5pm\n",
      "233138693362302977: rt pls obando bulacan esp my family needs food and clean water flood chest deep inside our house pls send them\n",
      "234653403316375552: rt rt the next severe weather bulletin will be issued at 11pm tonight\n",
      "232830118429605889: rt pregnant mom and small kids trapped in 5ft flooded house l. dela cruz st. brgy isla valen zuel\n"
     ]
    }
   ],
   "source": [
    "for idx in base_ex:\n",
    "    print(f'{data_ids[idx]}: {data[data_ids[idx]][\"text\"]}')"
   ]
  },
  {
   "cell_type": "markdown",
   "metadata": {},
   "source": [
    "TP captured by the adversarial model and not the baseline."
   ]
  },
  {
   "cell_type": "code",
   "execution_count": 7,
   "metadata": {},
   "outputs": [
    {
     "name": "stdout",
     "output_type": "stream",
     "text": [
      "232824699380441089: ust hospital and u erm in need of immediate help u sts morgue is flooded ue rms nursery is near being flooded please please\n",
      "233129386189139969: rt cebu bloggers campaign for please help spread the buzz\n",
      "232745036968767489: rt flood in the ust hospital is now on the 2nd floor no food for the patients &amp; staff pls help ...\n",
      "232827383726608384: ust hospital appeals to phl red cross for water and food via\n",
      "233060410885042179: rt de los santos medical on e. rod w/o food power needs help -\n",
      "232907696263819264: rt please help rt rt those who are in u erm the flood is now goi ...\n",
      "232727089537773569: rt hey guys use the hashtag for rescue operations and flood monitoring\n",
      "232886863172624386: rt im encouraging those who can to help with our relief work at tomorrow at 10am\n",
      "232860850086629377: rt no rescue yet stranded since 3pm kaya vali la 1012 fam 35m ems b 53 l12 teachers village cat mon malabon\n",
      "232730746958254080: plss s ssss we beg you rt please do rescue stray dogs and cats also\n",
      "233847954371379200: rt classes in will resume on saturday august 11 goods are accepted via security ofc or cosel m ...\n",
      "230882841498628096: philippine flood fatalities hit 23\n",
      "232707082707673088: rt philippine capital hit by floods\n"
     ]
    }
   ],
   "source": [
    "for idx in adversarial_ex:\n",
    "    print(f'{data_ids[idx]}: {data[data_ids[idx]][\"text\"]}')"
   ]
  },
  {
   "cell_type": "markdown",
   "metadata": {},
   "source": [
    "# Analysis of Non-Critical Tweets\n",
    "\n",
    "We reapeat the analysis for the True Negatives or *non-critical* tweets."
   ]
  },
  {
   "cell_type": "code",
   "execution_count": 8,
   "metadata": {},
   "outputs": [],
   "source": [
    "base_tn = [0,1,2,3,4,5,6,8,9,10,11,12,13,14,15,17,18,19,20,23,24,25,27,28,29,30,31,34,35,37,40,42,43,44,45,46,47,54,55,57,58,59,60,62,63,68,69,71,72,73,74,75,76,77,78,79,80,81,82,83,85,88,89,91,93,95,99,101,103,104,106,107,108,109,110,111,112,113,114,116,117,119,121,122,123,124,125,126,127,128,131,132,133,134,136,138,140,141,142,143,144,147,148,150,151,152,156,157,158,159,160,162,166,168,169,170,171,172,173,174,175,179,180,181,182,183,185,186,187,188,189,190,191,193,194,196,197,198,199,202,203,204,205,206,207,209,211,212,213,215,216,217,218,220,221,222,223,224,225,227,229,230,234,235,236,237,241,242,244,245,246,248,252,254,255,256,257,258,259,261,262,264,265,266,267,268,270,271,272,273,274,275,276,278,279,280,282,283,284,285,286,287,289,290,292,295,298,299,300,301,302,303,304,306,307,308,309,310,311,312,313,314,315,316,318,319,320,322,324,325,326,327,328,329,330,331,332,334,337,339,340,342,343,344,345,347,348,349,350,351,352,353,359,360,361,363,364,365,366,367,368,373,375,376,377,378,379,380,381,382,383,386,388,389,390,392,395,397,398,399,400,402,404,405,406,408,409,410,412,413,414,415,416,419,421,422,423,424,425,426,427,428,429,430,431,432,433,434,435,436,437,439,442,443,444,445,446,447]\n",
    "adv_tn = [0,1,2,3,4,5,6,8,9,10,11,12,13,14,15,17,18,19,23,24,25,27,28,29,30,31,34,35,36,37,40,42,43,44,45,46,47,52,54,55,57,58,59,60,61,62,63,67,68,69,71,72,73,74,75,76,77,78,79,80,81,82,83,85,88,89,90,91,93,94,95,99,101,102,103,104,106,107,108,109,110,111,113,114,115,116,117,121,122,123,124,125,126,128,131,132,133,134,136,138,140,141,142,143,144,147,148,150,151,152,154,156,157,158,159,160,162,166,168,169,170,171,172,173,174,175,179,180,181,182,183,185,186,187,188,189,190,191,193,194,196,197,198,199,202,203,204,205,206,207,209,211,212,213,215,216,217,218,219,220,221,222,223,224,225,227,229,230,234,235,236,237,240,241,242,244,245,246,248,252,253,254,255,256,257,258,259,261,262,264,265,266,267,268,270,271,272,275,276,278,279,280,282,283,284,285,286,289,290,292,296,298,299,300,301,302,303,304,306,307,308,309,310,311,312,313,314,315,316,318,319,320,322,324,325,326,327,328,329,330,331,332,334,335,337,339,340,342,343,344,345,347,348,349,350,351,352,353,357,358,359,360,361,363,364,365,366,367,368,373,375,376,377,378,379,380,381,382,383,386,388,389,390,392,395,397,398,399,400,402,403,404,405,406,408,410,412,413,415,416,419,421,422,423,424,425,426,427,428,429,430,431,432,433,434,435,436,437,439,442,443,444,445,446,447,]"
   ]
  },
  {
   "cell_type": "markdown",
   "metadata": {},
   "source": [
    "As with the TP, we repeat the same procedure with the TN."
   ]
  },
  {
   "cell_type": "code",
   "execution_count": 9,
   "metadata": {},
   "outputs": [
    {
     "name": "stdout",
     "output_type": "stream",
     "text": [
      "10\n",
      "17\n"
     ]
    }
   ],
   "source": [
    "base_ex = set(base_tn) - set(adv_tn)\n",
    "print(len(base_ex))\n",
    "adversarial_ex = set(adv_tn) - set(base_tn)\n",
    "print(len(adversarial_ex))"
   ]
  },
  {
   "cell_type": "markdown",
   "metadata": {},
   "source": [
    "*non-crit* captured by the baseline and not the adversarial model."
   ]
  },
  {
   "cell_type": "code",
   "execution_count": 10,
   "metadata": {},
   "outputs": [
    {
     "name": "stdout",
     "output_type": "stream",
     "text": [
      "232753094197383168: philippine capital paralysed by floods - bbc news\n",
      "232792889791496192: rt flood relief information check poster for donation drop offs share if u care ...\n",
      "234517184926334977: please follow for updates on relief operations &amp; how you can help in your own little way\n",
      "234124224766296064: check out available relief ops\n",
      "232837819159166976: trinity university of asia - high school campus along e rodriguez sr. ave qc is open for evacuees and donations please rt\n",
      "232700514419216384: rt use hashtag to allow all media outlets to monitor tweets related to the floods rescue operations thanks\n",
      "233150760366505984: pls help ma tet reginaldo and her 2w ee kold baby lot 4b loc k3 villa olympia sto domingo cainta rizal\n",
      "233000138719784960: rt can somebody rescue my friend 1215 dearborn st brookside subd cainta rizal 090 68040 384 still on roof 8/8 75 8am\n",
      "234518627775287296: residents clean up muck ridden manila after floods - times live\n",
      "232801509077823488: jollibee foundation coin banks now accepts funds for flood affected families\n"
     ]
    }
   ],
   "source": [
    "for idx in base_ex:\n",
    "    print(f'{data_ids[idx]}: {data[data_ids[idx]][\"text\"]}')"
   ]
  },
  {
   "cell_type": "markdown",
   "metadata": {},
   "source": [
    "*non-crit* captured by the adversarial model and not the baseline."
   ]
  },
  {
   "cell_type": "code",
   "execution_count": 11,
   "metadata": {},
   "outputs": [
    {
     "name": "stdout",
     "output_type": "stream",
     "text": [
      "232746320409006080: metro manila flood updates nlex is now north luzon express river . pls rt and spread\n",
      "232883662897692673: rt rt family of 8 with 2 seniors is trapped in their home pla help add is 101 kap iligan st d ...\n",
      "232725848011202563: rt walked thru flood waters take one dose of doxycycline 20 0mg to guard against leptospirosis via\n",
      "232791988016148480: ma'am please r e t w e e t u erm staff &amp; patients are in need of immediate action help\n",
      "233279991054479360: rt advisory press the right buttons\n",
      "232827551515561985: rt hospitals that need help food &amp; water ust hospital u erm and philippine general hospital pls ...\n",
      "232786367640387587: please help stranded ang mga residente ng b 53 l12 teachers village cat mon malabon staying on top of their roofs\n",
      "232888532488826881: ndr rmc nearly 50 of metro manila submerged in floodwater due to heavy monsoon rains\n",
      "232708580057415681: philippine capital hit by floods flooding caused by torrential rain paralyses parts of manila forcing tens of ...\n",
      "233570362728775680: rt donate / pinoy b2 ut ys and even international ones , we will be needing your help as beas tph will be ...\n",
      "233451022197088257: rt help needed in malabon people need drinking water ready-to-eat food &amp; meds\n",
      "233042312442310656: rt sabi nga nila work for a cause not for applause\n",
      "232861286281666560: rt pa rescue po my kuya hs wife ampa mp kid w dogs stock cont\n",
      "233012356723118082: rt pal passengers to/from manila who are unable to take their flights due to floods may rebook their tickets with rebooking c ...\n",
      "232890398966693891: rt lets all pray for those who lost their homes and now living in cold and starving ...\n",
      "232870945767972864: reported needs to be rescued blk 12 lot 6 3rd st. t anong malabon flood &amp; no electricity 091 941 99 630 ann lyn santos\n",
      "233093571052466176: rt pwu manila are accepting foods blankets clothes water &amp; medicines for the flood victims look for vanessa te 0 926 ...\n"
     ]
    }
   ],
   "source": [
    "for idx in adversarial_ex:\n",
    "    print(f'{data_ids[idx]}: {data[data_ids[idx]][\"text\"]}')"
   ]
  }
 ],
 "metadata": {
  "kernelspec": {
   "display_name": "Python 3",
   "language": "python",
   "name": "python3"
  },
  "language_info": {
   "codemirror_mode": {
    "name": "ipython",
    "version": 3
   },
   "file_extension": ".py",
   "mimetype": "text/x-python",
   "name": "python",
   "nbconvert_exporter": "python",
   "pygments_lexer": "ipython3",
   "version": "3.7.4"
  }
 },
 "nbformat": 4,
 "nbformat_minor": 2
}
